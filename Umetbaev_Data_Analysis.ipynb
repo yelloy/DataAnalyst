{
 "cells": [
  {
   "cell_type": "markdown",
   "metadata": {},
   "source": [
    "# Test Assignment. Junior Data Analyst \n",
    "## Damir Umetbaev"
   ]
  },
  {
   "cell_type": "markdown",
   "metadata": {},
   "source": [
    "### ## Выводы по работе в самом низу страницы"
   ]
  },
  {
   "cell_type": "markdown",
   "metadata": {},
   "source": [
    "Работа разбита на два файла. Второй - Data preparation, его нужно запустить первым. Сделал такую разбивку, чтобы снизить нагрузку на компьютер"
   ]
  },
  {
   "cell_type": "code",
   "execution_count": null,
   "metadata": {},
   "outputs": [],
   "source": [
    "import pandas as pd\n",
    "import numpy as np\n",
    "import plotly\n",
    "import plotly.graph_objs as go\n",
    "import plotly.express as px\n",
    "from plotly.subplots import make_subplots"
   ]
  },
  {
   "cell_type": "code",
   "execution_count": null,
   "metadata": {},
   "outputs": [],
   "source": [
    "df = pd.read_csv('df_parsed.csv')\n",
    "# delete irrelevant column\n",
    "df = df.drop(['Unnamed: 0'], axis=1)\n",
    "# create df for storing results\n",
    "d = {'City_Rev': [None, None, None], 'City_ECPM': [None, None, None],\\\n",
    "     'OS_Rev': [None, None, None], 'OS_ECPM': [None, None, None]}\n",
    "df_results = pd.DataFrame(data=d, index=['Int', 'Banner', 'RV'])"
   ]
  },
  {
   "cell_type": "markdown",
   "metadata": {},
   "source": [
    "## ECPM Analysis"
   ]
  },
  {
   "cell_type": "code",
   "execution_count": null,
   "metadata": {},
   "outputs": [],
   "source": [
    "# add ECPM column (revenue*1000)\n",
    "df['ECPM'] = df.revenue*1000"
   ]
  },
  {
   "cell_type": "markdown",
   "metadata": {},
   "source": [
    "### Overall"
   ]
  },
  {
   "cell_type": "code",
   "execution_count": null,
   "metadata": {},
   "outputs": [],
   "source": [
    "fig = px.histogram(df, y='ECPM')\n",
    "fig.update_yaxes(range=[0, 15])\n",
    "fig.update_xaxes(range=[0, 300000])\n",
    "fig.update_layout(title = \"ECPM\",\n",
    "                  xaxis_title=\"Number of cases\",\n",
    "                  yaxis_title=\"ECPM value\")\n",
    "fig.show()"
   ]
  },
  {
   "cell_type": "markdown",
   "metadata": {},
   "source": [
    "Из общего распределения eCPM можно видеть что три самых крупных класса локализованы возле 7, возле 2 и возле 0,5 (USD).\n",
    "Самая показываемая реклама - дешевая реклама."
   ]
  },
  {
   "cell_type": "markdown",
   "metadata": {},
   "source": [
    "## Int Ad"
   ]
  },
  {
   "cell_type": "markdown",
   "metadata": {},
   "source": [
    "Из общего массива данных выделю тот что относится к полноэкранной рекламе"
   ]
  },
  {
   "cell_type": "code",
   "execution_count": null,
   "metadata": {
    "scrolled": true
   },
   "outputs": [],
   "source": [
    "df_int = df.loc[df['ad_type'] == 'int']"
   ]
  },
  {
   "cell_type": "code",
   "execution_count": null,
   "metadata": {},
   "outputs": [],
   "source": [
    "fig = px.histogram(df_int, y=df_int.ECPM)\n",
    "fig.update_yaxes(range=[0, 400])\n",
    "fig.update_xaxes(range=[0, 4000])\n",
    "fig.update_layout(title = \"ECPM int\",\n",
    "                  xaxis_title=\"Number of cases\",\n",
    "                  yaxis_title=\"ECPM value\")\n",
    "fig.show()"
   ]
  },
  {
   "cell_type": "markdown",
   "metadata": {},
   "source": [
    "Из графика видно что есть несколько групп событий, причем ECPM основной массы сейчас в районе 15$, но есть в разы более выгодные группы с ECPM 190$, 170$, 130$"
   ]
  },
  {
   "cell_type": "markdown",
   "metadata": {},
   "source": [
    "## Анализ по городам "
   ]
  },
  {
   "cell_type": "markdown",
   "metadata": {},
   "source": [
    "Суммарные доходы по городам"
   ]
  },
  {
   "cell_type": "code",
   "execution_count": null,
   "metadata": {
    "scrolled": false
   },
   "outputs": [],
   "source": [
    "df_int_cities_sum_revenue = df_int.groupby(['city'])['revenue'].sum().reset_index(name='revenue')\n",
    "df_int_cities_sum_revenue = df_int_cities_sum_revenue.sort_values(by='revenue', ascending=False)\n",
    "Total = df_int_cities_sum_revenue['revenue'].sum()\n",
    "Subtotal = df_int_cities_sum_revenue['revenue'].iloc[:100,].sum()\n",
    "df_int_cities_sum_revenue = df_int_cities_sum_revenue.loc[df_int_cities_sum_revenue['revenue'] > 10]\n",
    "\n",
    "df_results.at['Int','City_Rev'] = (df_int_cities_sum_revenue.loc[df_int_cities_sum_revenue['revenue'].idxmax()])['revenue']\n",
    "\n",
    "fig = px.bar(df_int_cities_sum_revenue, x='city', y='revenue')\n",
    "fig.update_layout(title = \"Int revenue sum\",\n",
    "                  xaxis_title=\"City name\",\n",
    "                  yaxis_title=\"revenue sum\")\n",
    "fig.show()"
   ]
  },
  {
   "cell_type": "code",
   "execution_count": null,
   "metadata": {},
   "outputs": [],
   "source": [
    "Subtotal,Total"
   ]
  },
  {
   "cell_type": "markdown",
   "metadata": {},
   "source": [
    "В датасете присутствует порядка 900 городов, 18% дохода приходится на первую десятку, 61% на первую сотню, т.е. доход относительно распределен по городам."
   ]
  },
  {
   "cell_type": "markdown",
   "metadata": {},
   "source": [
    "Средние значения ECPM по городам"
   ]
  },
  {
   "cell_type": "markdown",
   "metadata": {},
   "source": [
    "### Про пункт 2 задания. Оценить стат значимость полученных средних значений ECPM.\n",
    "\n",
    "Я не знаю как оценить стат.значимость для неизвестного мне объекта исследования (полученных средних ECPM), бегло нагуглить как это делается так же не удалось. Я мог бы определить стат значимость зная, к примеру, старое распределение величин (средние значения ECPM по городам и средние отклонения). \n",
    "\n",
    "Для приблизительной оценки значимости в данной ситуации я построил график mean ECPM распределенных по размерам выборки."
   ]
  },
  {
   "cell_type": "code",
   "execution_count": null,
   "metadata": {},
   "outputs": [],
   "source": [
    "# calculation of mean ECPM and count number of events for each city\n",
    "df_int_cities_mean_ECPM = df_int.groupby('city')['ECPM']\\\n",
    "                        .agg(['mean','size'])\\\n",
    "                        .rename(columns={'mean':'ECPM'})\\\n",
    "                        .reset_index()\n",
    "\n",
    "fig = px.scatter(df_int_cities_mean_ECPM, x=\"ECPM\", y=\"size\")\n",
    "fig.update_layout(title = \"Mean ECPM to frequency int\",\n",
    "                  xaxis_title=\"mean ECPM\",\n",
    "                  yaxis_title=\"Number of cases\")\n",
    "fig.show()"
   ]
  },
  {
   "cell_type": "markdown",
   "metadata": {},
   "source": [
    "Из графика видно что широкий разброс по mean ECPM (от 0 до 437) существует только при малых (<50) размерах выборки. С увеличением размера выборки вариативность сильно падает. Исходя из общего правила - точность растет с размером выборки, в качестве условной оценки я дам статус неточных всем значениям с размером выборки меньше 80. В дальнейшем я буду использовать это число как планку и отсекать результаты с меньшим размером выборки.\n",
    "\n",
    "Так же из графика видно, что вариативность стоимости показа рекламы крайне высока, в некоторых случаях в десятки раз. \n",
    "\n",
    "Далее я отсортирую результаты по ECPM чтобы выделить наиболее успешные города."
   ]
  },
  {
   "cell_type": "code",
   "execution_count": null,
   "metadata": {
    "scrolled": true
   },
   "outputs": [],
   "source": [
    "df_int_cities_mean_ECPM = df_int_cities_mean_ECPM.loc[df_int_cities_mean_ECPM['size'] > 80]\n",
    "df_int_cities_mean_ECPM = df_int_cities_mean_ECPM.sort_values(by = 'ECPM', ascending=False)"
   ]
  },
  {
   "cell_type": "markdown",
   "metadata": {},
   "source": [
    "Таким образом из 869 городов осталось лишь 64. \n",
    "Для графического отображения выведу первые 8"
   ]
  },
  {
   "cell_type": "code",
   "execution_count": null,
   "metadata": {
    "scrolled": false
   },
   "outputs": [],
   "source": [
    "df_int_cities_mean_ECPM = df_int_cities_mean_ECPM.loc[df_int_cities_mean_ECPM['ECPM'] > 50]\n",
    "df_results.at['Int','City_ECPM'] = (df_int_cities_mean_ECPM.loc[df_int_cities_mean_ECPM['ECPM'].idxmax()])['ECPM']\n",
    "\n",
    "fig = px.bar(df_int_cities_mean_ECPM, x='city', y='ECPM')\n",
    "fig.update_layout(title = \"Int ECPM mean\",\n",
    "                  xaxis_title=\"City name\",\n",
    "                  yaxis_title=\"ECPM mean\")\n",
    "fig.show()"
   ]
  },
  {
   "cell_type": "markdown",
   "metadata": {},
   "source": [
    "Города с наибольшим доходам и города с наиболее дорогими показами рекламы не совпадают. "
   ]
  },
  {
   "cell_type": "markdown",
   "metadata": {},
   "source": [
    "## Анализ по версиям ОС"
   ]
  },
  {
   "cell_type": "markdown",
   "metadata": {},
   "source": [
    "Проверяю общее кол-во версий"
   ]
  },
  {
   "cell_type": "code",
   "execution_count": null,
   "metadata": {},
   "outputs": [],
   "source": [
    "df.drop_duplicates(subset=['os_version']).shape"
   ]
  },
  {
   "cell_type": "markdown",
   "metadata": {},
   "source": [
    "Версий всего 11"
   ]
  },
  {
   "cell_type": "markdown",
   "metadata": {},
   "source": [
    "Суммарный доход по версиям"
   ]
  },
  {
   "cell_type": "code",
   "execution_count": null,
   "metadata": {},
   "outputs": [],
   "source": [
    "df_int_os_sum_revenue = df_int.groupby(['os_version'])['revenue'].sum().reset_index(name='revenue')\n",
    "df_int_os_sum_revenue = df_int_os_sum_revenue.sort_values(by='revenue', ascending=False)\n",
    "\n",
    "df_results.at['Int','OS_Rev'] = (df_int_os_sum_revenue.loc[df_int_os_sum_revenue['revenue'].idxmax()])['revenue']\n",
    "\n",
    "fig = px.bar(df_int_os_sum_revenue, x='os_version', y='revenue')\n",
    "fig.update_layout(title = \"Int revenue sum\",\n",
    "                  xaxis_title=\"os_version name\",\n",
    "                  yaxis_title=\"revenue sum\")\n",
    "fig.show()"
   ]
  },
  {
   "cell_type": "markdown",
   "metadata": {},
   "source": [
    "Почти все активные пользователи используют последние 4 версии ОС. Поддержка версий старее девятой это меньше 1% прибыли."
   ]
  },
  {
   "cell_type": "markdown",
   "metadata": {},
   "source": [
    "Средние значения ECPM по версиям ОС"
   ]
  },
  {
   "cell_type": "code",
   "execution_count": null,
   "metadata": {},
   "outputs": [],
   "source": [
    "# calculation of mean ECPM and count number of events for each city\n",
    "df_int_os_mean_ECPM = df_int.groupby('os_version')['ECPM']\\\n",
    "                        .agg(['mean','size'])\\\n",
    "                        .rename(columns={'mean':'ECPM'})\\\n",
    "                        .reset_index()\n",
    "\n",
    "df_int_os_mean_ECPM = df_int_os_mean_ECPM.loc[df_int_os_mean_ECPM['size'] > 80]\n",
    "df_int_os_mean_ECPM = df_int_os_mean_ECPM.sort_values(by = 'ECPM', ascending=False)\n",
    "\n",
    "df_results.at['Int','OS_ECPM'] = (df_int_os_mean_ECPM.loc[df_int_os_mean_ECPM['ECPM'].idxmax()])['ECPM']\n",
    "\n",
    "fig = px.bar(df_int_os_mean_ECPM, x='os_version', y='ECPM')\n",
    "fig.update_layout(title = \"Int ECPM mean\",\n",
    "                  xaxis_title=\"os_version name\",\n",
    "                  yaxis_title=\"ECPM mean\")\n",
    "fig.show()"
   ]
  },
  {
   "cell_type": "markdown",
   "metadata": {},
   "source": [
    "Чем новее версия ОС тем больше стоит пользователь, прямая корреляция."
   ]
  },
  {
   "cell_type": "markdown",
   "metadata": {},
   "source": [
    "## Banner Ad"
   ]
  },
  {
   "cell_type": "markdown",
   "metadata": {},
   "source": [
    "Из общего массива данных выделю тот что относится к баннерной рекламе"
   ]
  },
  {
   "cell_type": "code",
   "execution_count": null,
   "metadata": {},
   "outputs": [],
   "source": [
    "df_banner = df.loc[df['ad_type'] == 'banner']"
   ]
  },
  {
   "cell_type": "code",
   "execution_count": null,
   "metadata": {
    "scrolled": false
   },
   "outputs": [],
   "source": [
    "fig = go.Figure(data=[go.Histogram(y=df_banner.ECPM)])\n",
    "fig.update_yaxes(range=[0, 10])\n",
    "fig.update_xaxes(range=[0, 140000])\n",
    "fig.update_layout(title = \"ECPM banner\",\n",
    "                  xaxis_title=\"Number of cases\",\n",
    "                  yaxis_title=\"ECPM value\")\n",
    "fig.show()"
   ]
  },
  {
   "cell_type": "markdown",
   "metadata": {},
   "source": [
    "На графике видно три класса событий. Два верхних класса представляют интерес для дальнейшего изучения, т.к. являются в разы более прибыльными."
   ]
  },
  {
   "cell_type": "markdown",
   "metadata": {},
   "source": [
    "## Анализ по городам"
   ]
  },
  {
   "cell_type": "markdown",
   "metadata": {},
   "source": [
    "Суммарные доходы по городам"
   ]
  },
  {
   "cell_type": "code",
   "execution_count": null,
   "metadata": {
    "scrolled": false
   },
   "outputs": [],
   "source": [
    "df_banner_cities_sum_revenue = df_banner.groupby(['city'])['revenue'].sum().reset_index(name='revenue')\n",
    "df_banner_cities_sum_revenue = df_banner_cities_sum_revenue.sort_values(by='revenue', ascending=False)\n",
    "Total = df_banner_cities_sum_revenue['revenue'].sum()\n",
    "Subtotal = df_banner_cities_sum_revenue['revenue'].iloc[:10,].sum()\n",
    "df_banner_cities_sum_revenue = df_banner_cities_sum_revenue.loc[df_banner_cities_sum_revenue['revenue'] > 5]\n",
    "\n",
    "df_results.at['Banner','City_Rev'] = (df_banner_cities_sum_revenue.loc[df_banner_cities_sum_revenue['revenue'].idxmax()])['revenue']\n",
    "\n",
    "fig = px.bar(df_banner_cities_sum_revenue, x='city', y='revenue')\n",
    "fig.update_layout(title = \"Banner revenue sum\",\n",
    "                  xaxis_title=\"City name\",\n",
    "                  yaxis_title=\"revenue sum\")\n",
    "fig.show()"
   ]
  },
  {
   "cell_type": "code",
   "execution_count": null,
   "metadata": {},
   "outputs": [],
   "source": [
    "Subtotal,Total"
   ]
  },
  {
   "cell_type": "markdown",
   "metadata": {},
   "source": [
    "На первую десятку приходится 21.2% всего дохода, а на первую сотню 68.7%"
   ]
  },
  {
   "cell_type": "markdown",
   "metadata": {},
   "source": [
    "Средние значения ECPM по городам "
   ]
  },
  {
   "cell_type": "code",
   "execution_count": null,
   "metadata": {
    "scrolled": false
   },
   "outputs": [],
   "source": [
    "# calculation of mean ECPM and count number of events for each city\n",
    "df_banner_cities_mean_ECPM = df_banner.groupby('city')['ECPM']\\\n",
    "                        .agg(['mean','size'])\\\n",
    "                        .rename(columns={'mean':'ECPM'})\\\n",
    "                        .reset_index()\n",
    "\n",
    "df_banner_cities_mean_ECPM = df_banner_cities_mean_ECPM.sort_values(by = 'size')\n",
    "\n",
    "df_banner_cities_mean_ECPM = df_banner_cities_mean_ECPM.loc[df_banner_cities_mean_ECPM['size'] > 80]\n",
    "\n",
    "fig = px.scatter(df_banner_cities_mean_ECPM, x=\"ECPM\", y=\"size\")\n",
    "fig.update_layout(title = \"Mean ECPM to frequency Banner\",\n",
    "                  xaxis_title=\"mean ECPM\",\n",
    "                  yaxis_title=\"Number of cases\")\n",
    "fig.show()"
   ]
  },
  {
   "cell_type": "markdown",
   "metadata": {},
   "source": [
    "Для данного типа рекламы виден сильный разброс в стоимости. Есть несколько городов, цена просмотра рекламы в которых значительно выше чем в остальных."
   ]
  },
  {
   "cell_type": "code",
   "execution_count": null,
   "metadata": {
    "scrolled": false
   },
   "outputs": [],
   "source": [
    "df_banner_cities_mean_ECPM = df_banner_cities_mean_ECPM.loc[df_banner_cities_mean_ECPM['ECPM'] > 3]\n",
    "df_banner_cities_mean_ECPM = df_banner_cities_mean_ECPM.sort_values(by = 'ECPM', ascending=False)\n",
    "df_results.at['Banner','City_ECPM'] = (df_banner_cities_mean_ECPM.loc[df_banner_cities_mean_ECPM['ECPM'].idxmax()])['ECPM']\n",
    "\n",
    "fig = px.bar(df_banner_cities_mean_ECPM, x='city', y='ECPM')\n",
    "fig.update_layout(title = \"Banner ECPM mean\",\n",
    "                  xaxis_title=\"City name\",\n",
    "                  yaxis_title=\"ECPM mean\")\n",
    "fig.show()"
   ]
  },
  {
   "cell_type": "markdown",
   "metadata": {},
   "source": [
    "Из графика видно что первая тройка примерно в 2 раза ценнее остальных топовых городов. Преимущество первых трех городов ярко выраженно."
   ]
  },
  {
   "cell_type": "markdown",
   "metadata": {},
   "source": [
    "## Анализ по версиям ОС"
   ]
  },
  {
   "cell_type": "markdown",
   "metadata": {},
   "source": [
    "Суммарный доход по версиям"
   ]
  },
  {
   "cell_type": "code",
   "execution_count": null,
   "metadata": {},
   "outputs": [],
   "source": [
    "df_banner_os_sum_revenue = df_banner.groupby(['os_version'])['revenue'].sum().reset_index(name='revenue')\n",
    "df_banner_os_sum_revenue = df_banner_os_sum_revenue.sort_values(by='revenue', ascending=False)\n",
    "\n",
    "df_results.at['Banner','OS_Rev'] = (df_banner_os_sum_revenue.loc[df_banner_os_sum_revenue['revenue'].idxmax()])['revenue']\n",
    "\n",
    "fig = px.bar(df_banner_os_sum_revenue, x='os_version', y='revenue')\n",
    "fig.update_layout(title = \"Banner revenue sum\",\n",
    "                  xaxis_title=\"os_version name\",\n",
    "                  yaxis_title=\"revenue sum\")\n",
    "fig.show()"
   ]
  },
  {
   "cell_type": "markdown",
   "metadata": {},
   "source": [
    "Больше половины дохода от просмотра банеров дают пользователи новых моделей ОС."
   ]
  },
  {
   "cell_type": "markdown",
   "metadata": {},
   "source": [
    "Средние значения ECPM по версиям ОС"
   ]
  },
  {
   "cell_type": "code",
   "execution_count": null,
   "metadata": {
    "scrolled": false
   },
   "outputs": [],
   "source": [
    "# calculation of mean ECPM and count number of events for each city\n",
    "df_banner_os_mean_ECPM = df_banner.groupby('os_version')['ECPM']\\\n",
    "                        .agg(['mean','size'])\\\n",
    "                        .rename(columns={'mean':'ECPM'})\\\n",
    "                        .reset_index()\n",
    "\n",
    "df_banner_os_mean_ECPM = df_banner_os_mean_ECPM.loc[df_banner_os_mean_ECPM['size'] > 80]\n",
    "df_banner_os_mean_ECPM = df_banner_os_mean_ECPM.sort_values(by = 'ECPM', ascending=False)\n",
    "\n",
    "df_results.at['Banner','OS_ECPM'] = (df_banner_os_mean_ECPM.loc[df_banner_os_mean_ECPM['ECPM'].idxmax()])['ECPM']\n",
    "\n",
    "fig = px.bar(df_banner_os_mean_ECPM, x='os_version', y='ECPM')\n",
    "fig.update_layout(title = \"Banner ECPM mean\",\n",
    "                  xaxis_title=\"os_version name\",\n",
    "                  yaxis_title=\"ECPM mean\")\n",
    "fig.show()"
   ]
  },
  {
   "cell_type": "markdown",
   "metadata": {},
   "source": [
    "Для банерной рекламы кореляция модели ОС и стоимости показа так же подтверждается"
   ]
  },
  {
   "cell_type": "markdown",
   "metadata": {},
   "source": [
    "## RV Ad"
   ]
  },
  {
   "cell_type": "markdown",
   "metadata": {},
   "source": [
    "Из общего массива данных выделю тот что относится к rewarded video"
   ]
  },
  {
   "cell_type": "code",
   "execution_count": null,
   "metadata": {},
   "outputs": [],
   "source": [
    "df_rv = df.loc[df['ad_type'] == 'rv']"
   ]
  },
  {
   "cell_type": "code",
   "execution_count": null,
   "metadata": {
    "scrolled": false
   },
   "outputs": [],
   "source": [
    "fig = go.Figure(data=[go.Histogram(y=df_rv.ECPM)])\n",
    "fig.update_yaxes(range=[0, 300])\n",
    "fig.update_xaxes(range=[0, 1800])\n",
    "fig.update_layout(title = \"ECPM RV\",\n",
    "                  xaxis_title=\"Number of cases\",\n",
    "                  yaxis_title=\"ECPM value\")\n",
    "fig.show()"
   ]
  },
  {
   "cell_type": "markdown",
   "metadata": {},
   "source": [
    "На графике присутствуют три класса, картина схожа с той что наблюдалась в банерной рекламе. Возможно у этого есть общая причина"
   ]
  },
  {
   "cell_type": "markdown",
   "metadata": {},
   "source": [
    "## Анализ по городам"
   ]
  },
  {
   "cell_type": "markdown",
   "metadata": {},
   "source": [
    "Доход по городам"
   ]
  },
  {
   "cell_type": "code",
   "execution_count": null,
   "metadata": {},
   "outputs": [],
   "source": [
    "df_rv_cities_sum_revenue = df_rv.groupby(['city'])['revenue'].sum().reset_index(name='revenue')\n",
    "df_rv_cities_sum_revenue = df_rv_cities_sum_revenue.sort_values(by='revenue', ascending=False)\n",
    "Total = df_rv_cities_sum_revenue['revenue'].sum()\n",
    "Subtotal = df_rv_cities_sum_revenue['revenue'].iloc[:100,].sum()\n",
    "df_rv_cities_sum_revenue = df_rv_cities_sum_revenue.loc[df_rv_cities_sum_revenue['revenue'] > 5]\n",
    "\n",
    "df_results.at['RV','City_Rev'] = (df_rv_cities_sum_revenue.loc[df_rv_cities_sum_revenue['revenue'].idxmax()])['revenue']\n",
    "\n",
    "fig = px.bar(df_rv_cities_sum_revenue, x='city', y='revenue')\n",
    "fig.update_layout(title = \"RV revenue sum\",\n",
    "                  xaxis_title=\"City name\",\n",
    "                  yaxis_title=\"revenue sum\")\n",
    "fig.show()"
   ]
  },
  {
   "cell_type": "code",
   "execution_count": null,
   "metadata": {},
   "outputs": [],
   "source": [
    "Subtotal,Total"
   ]
  },
  {
   "cell_type": "markdown",
   "metadata": {},
   "source": [
    "Первая десятка городов приносит 24.8% дохода, первая сотня 74.4%. Доход от этого типа рекламы более локализован географически чем доход от других типов. Доход от Хьюстона почти в два раза больше чем от других городов топа."
   ]
  },
  {
   "cell_type": "code",
   "execution_count": null,
   "metadata": {},
   "outputs": [],
   "source": [
    "# calculation of mean ECPM and count number of events for each city\n",
    "df_rv_cities_mean_ECPM = df_rv.groupby('city')['ECPM']\\\n",
    "                        .agg(['mean','size'])\\\n",
    "                        .rename(columns={'mean':'ECPM'})\\\n",
    "                        .reset_index()\n",
    "\n",
    "fig = px.scatter(df_rv_cities_mean_ECPM, x=\"ECPM\", y=\"size\")\n",
    "fig.update_layout(title = \"Mean ECPM to frequency RV\",\n",
    "                  xaxis_title=\"mean ECPM\",\n",
    "                  yaxis_title=\"Number of cases\")\n",
    "fig.show()"
   ]
  },
  {
   "cell_type": "markdown",
   "metadata": {},
   "source": [
    "Размер выборки для данного типа рекламы довольно мал, что уменьшает вероятность достоверности получаемых результатов."
   ]
  },
  {
   "cell_type": "code",
   "execution_count": null,
   "metadata": {
    "scrolled": false
   },
   "outputs": [],
   "source": [
    "df_rv_cities_mean_ECPM = df_rv_cities_mean_ECPM.loc[df_rv_cities_mean_ECPM['size'] > 80]\n",
    "\n",
    "df_rv_cities_mean_ECPM = df_rv_cities_mean_ECPM.loc[df_rv_cities_mean_ECPM['ECPM'] > 3]\n",
    "df_rv_cities_mean_ECPM = df_rv_cities_mean_ECPM.sort_values(by = 'ECPM', ascending=False)\n",
    "\n",
    "df_results.at['RV','City_ECPM'] = (df_rv_cities_mean_ECPM.loc[df_rv_cities_mean_ECPM['ECPM'].idxmax()])['ECPM']\n",
    "\n",
    "fig = px.bar(df_rv_cities_mean_ECPM, x='city', y='ECPM')\n",
    "fig.update_layout(title = \"RV ECPM mean\",\n",
    "                  xaxis_title=\"City name\",\n",
    "                  yaxis_title=\"ECPM mean\")\n",
    "fig.show()"
   ]
  },
  {
   "cell_type": "markdown",
   "metadata": {},
   "source": [
    "## Анализ по версиям ОС"
   ]
  },
  {
   "cell_type": "markdown",
   "metadata": {},
   "source": [
    "Суммарный доход по версиям"
   ]
  },
  {
   "cell_type": "code",
   "execution_count": null,
   "metadata": {},
   "outputs": [],
   "source": [
    "df_rv_os_sum_revenue = df_rv.groupby(['os_version'])['revenue'].sum().reset_index(name='revenue')\n",
    "df_rv_os_sum_revenue = df_rv_os_sum_revenue.sort_values(by='revenue', ascending=False)\n",
    "\n",
    "df_results.at['RV','OS_Rev'] = (df_rv_os_sum_revenue.loc[df_rv_os_sum_revenue['revenue'].idxmax()])['revenue']\n",
    "\n",
    "fig = px.bar(df_rv_os_sum_revenue, x='os_version', y='revenue')\n",
    "fig.update_layout(title = \"RV revenue sum\",\n",
    "                  xaxis_title=\"os_version name\",\n",
    "                  yaxis_title=\"revenue sum\")\n",
    "fig.show()"
   ]
  },
  {
   "cell_type": "markdown",
   "metadata": {},
   "source": [
    "Средние значения ECPM по версиям ОС"
   ]
  },
  {
   "cell_type": "code",
   "execution_count": null,
   "metadata": {},
   "outputs": [],
   "source": [
    "# calculation of mean ECPM and count number of events for each city\n",
    "df_rv_os_mean_ECPM = df_rv.groupby('os_version')['ECPM']\\\n",
    "                        .agg(['mean','size'])\\\n",
    "                        .rename(columns={'mean':'ECPM'})\\\n",
    "                        .reset_index()\n",
    "\n",
    "df_rv_os_mean_ECPM = df_rv_os_mean_ECPM.loc[df_rv_os_mean_ECPM['size'] > 80]\n",
    "df_rv_os_mean_ECPM = df_rv_os_mean_ECPM.sort_values(by = 'ECPM', ascending=False)\n",
    "\n",
    "df_results.at['RV','OS_ECPM'] = (df_rv_os_mean_ECPM.loc[df_rv_os_mean_ECPM['ECPM'].idxmax()])['ECPM']\n",
    "\n",
    "fig = px.bar(df_rv_os_mean_ECPM, x='os_version', y='ECPM')\n",
    "fig.update_layout(title = \"RV ECPM mean\",\n",
    "                  xaxis_title=\"os_version name\",\n",
    "                  yaxis_title=\"ECPM mean\")\n",
    "fig.show()"
   ]
  },
  {
   "cell_type": "markdown",
   "metadata": {},
   "source": [
    "Общий комментарий\n",
    "В данном анализе я везде отображал значения наиболее успешных городов и ОС. В общем случае не менее интересны когорты с худшими параметрами. Например, они могут дать инсайты о плохом пользовательском опыте, или о рынке, в который не нужно инвестировать.\n",
    "Я не стал их отображать с целью экономии времени."
   ]
  },
  {
   "cell_type": "code",
   "execution_count": null,
   "metadata": {},
   "outputs": [],
   "source": [
    "df_results"
   ]
  },
  {
   "cell_type": "markdown",
   "metadata": {},
   "source": [
    "Можно сделать следующие выводы:\n",
    "- Больше всего денег сейчас приносит полноэкранная реклама\n",
    "- Самые дорогие просмотры идут от Rewarded video, самые дешевые - от банеров\n",
    "- Город в большей степени чем ОС определяет доход (больше разброс значений)"
   ]
  },
  {
   "cell_type": "markdown",
   "metadata": {},
   "source": [
    "Для разных типов рекламы наиболее выгодными по ECPM являются разные города,\n",
    "Для Int это Cincinnati(76), Las Vegas(70), Indianapolis(67)\n",
    "Для Banner это Clarks Summit (7.26), Gardena (6.75), Brockton (6.5)\n",
    "Для RV это Houston (117.4) New York (69.2) Minneapolis (47.5)\n",
    "Причем уже второй по счету город по стоимости Rewarded video отстает от второго города Int. \n",
    "\n",
    "По всем трем типам рекламы есть корреляция между версией ОС и ECPM, наиболее выгодна 12 версия ОС.\n",
    "\n",
    "Помимо частных выводов, проведенный анализ позволяет сказать что и география, и ОС пользователя сильно влияют на доход от него, что должно учитываться при настройке таргетированной рекламы и стратегии развития продукта.\n",
    "\n",
    "* Процент доходов содержащий информацию о городе = 62% (объяснение в Data_Preparation файле)"
   ]
  },
  {
   "cell_type": "markdown",
   "metadata": {},
   "source": [
    "Идеи для дальнейшего анализа:\n",
    "- На графиках ECPM есть крупные группы повышенной ценности. Есть смысл изучить каждую из них отдельно, поискать корреляции с какими либо признаками. \n",
    "- Уже предложенный в задании анализ ECPM по времени. Если есть корреляция можно настроить под нее отправку пушей напоминающих об игре.\n",
    "- Есть подозрения о большой группе пользователей не приносящих доход, есть смысл их исследовать и подумать над альтернативными моделями их монетизации."
   ]
  }
 ],
 "metadata": {
  "kernelspec": {
   "display_name": "Python 3",
   "language": "python",
   "name": "python3"
  },
  "language_info": {
   "codemirror_mode": {
    "name": "ipython",
    "version": 3
   },
   "file_extension": ".py",
   "mimetype": "text/x-python",
   "name": "python",
   "nbconvert_exporter": "python",
   "pygments_lexer": "ipython3",
   "version": "3.8.5"
  }
 },
 "nbformat": 4,
 "nbformat_minor": 4
}
